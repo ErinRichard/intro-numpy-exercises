{
 "cells": [
  {
   "cell_type": "markdown",
   "metadata": {},
   "source": [
    "# Exercises"
   ]
  },
  {
   "cell_type": "markdown",
   "metadata": {},
   "source": [
    "### #1 - Calculate the BMI (body mass index) on the two lists below using NDArrays..."
   ]
  },
  {
   "cell_type": "code",
   "execution_count": 75,
   "metadata": {},
   "outputs": [
    {
     "name": "stdout",
     "output_type": "stream",
     "text": [
      " arr_height: [69 70 71 72 73 74 75]\n",
      " arr_height type: <class 'numpy.ndarray'>\n",
      " \n",
      " arr_height: [110 120 130 140 150 160 170]\n",
      " arr_height type: <class 'numpy.ndarray'>\n",
      "\n",
      " BMI Calculation: [16.86620458 17.87755102 18.82562984 19.71450617 20.54794521 21.32943755\n",
      " 22.06222222]\n"
     ]
    }
   ],
   "source": [
    "import numpy as np\n",
    "# formula = weight / (height**2) * 730\n",
    "height = [69, 70, 71, 72, 73, 74, 75]\n",
    "weight = [110, 120, 130, 140, 150, 160, 170]\n",
    "\n",
    "# OUTPUT: [16.86620458 17.87755102 18.82562984 19.71450617 20.54794521 21.32943755\n",
    "# 22.06222222]\n",
    "\n",
    "\n",
    "# Turn a list into an NDArray\n",
    "arr_height = np.array(height)\n",
    "arr_weight = np.array(weight)\n",
    "\n",
    "print(f' arr_height: {arr_height}')\n",
    "print(f' arr_height type: {type(arr_height)}')\n",
    "\n",
    "print(f' \\n arr_height: {arr_weight}')\n",
    "print(f' arr_height type: {type(arr_weight)}')\n",
    "\n",
    "\n",
    "results_bmi = arr_weight / (arr_height**2) * 730\n",
    "print(f'\\n BMI Calculation: {results_bmi}')\n",
    "\n"
   ]
  },
  {
   "cell_type": "markdown",
   "metadata": {},
   "source": [
    "### #2 - Create a function that will take in two parameters and will create a random matrix based off of those parameters. Extra: Have additional parameters taken in that allow the user to choose the shape and data type of the matrix."
   ]
  },
  {
   "cell_type": "code",
   "execution_count": 90,
   "metadata": {},
   "outputs": [
    {
     "name": "stdout",
     "output_type": "stream",
     "text": [
      "\n",
      " Here is a (5, 5) matrix with random <class 'int'> values between 2 and 20: \n",
      " [[ 4 18  7  5  5]\n",
      " [10 18 12 10  8]\n",
      " [12  8 12 13 19]\n",
      " [ 4  2 19  9  5]\n",
      " [ 3 11  3 19  2]]\n",
      "\n",
      " Here is a (3, 3) matrix with random <class 'float'> values between 0 and 10: \n",
      " [[0.59756845 5.10877966 2.08257957]\n",
      " [2.67076127 1.86294769 1.10285574]\n",
      " [5.54147182 1.90618865 2.41397649]]\n",
      "\n",
      " Here is a (4, 4) matrix with random <class 'int'> values between 1 and 17: \n",
      " [[ 4 10  8  4]\n",
      " [16  4  9 15]\n",
      " [13  1 12  4]\n",
      " [ 6 16  9  3]]\n",
      "\n",
      " Sorry, type must be int or float\n"
     ]
    }
   ],
   "source": [
    "\"\"\"\n",
    "Example Result\n",
    "array([[14.21633515,  7.98846653,  9.64140715],\n",
    "       [ 6.30982234,  9.96414331,  8.43153688],\n",
    "       [14.73102068, 11.76072894, 14.23356121]])\n",
    "\"\"\"\n",
    "\n",
    "def makeMatrix(low,high,shape,data_type):\n",
    "    int_matrix = np.random.randint(low,high,shape)\n",
    "    float_matrix = np.random.uniform(low,high,shape)\n",
    "    if data_type == float:\n",
    "        return f'\\n Here is a {shape} matrix with random {data_type} values between {low} and {high}: \\n {float_matrix}'\n",
    "    if data_type == int:\n",
    "        return f'\\n Here is a {shape} matrix with random {data_type} values between {low} and {high}: \\n {int_matrix}'\n",
    "    else:\n",
    "        return f'\\n Sorry, type must be int or float'\n",
    "    \n",
    "print(makeMatrix(2,20,(5,5),data_type=int)) \n",
    "print(makeMatrix(0,10,(3,3),data_type=float))\n",
    "print(makeMatrix(1,17,(4,4),data_type=int))\n",
    "print(makeMatrix(1,17,(4,4),data_type=str))"
   ]
  },
  {
   "cell_type": "markdown",
   "metadata": {},
   "source": [
    "### #3 - Extra: Open and load the data in the two text files that have the Boston Red Sox hitting data for the past seasons. Compare the difference in the two years by putting the data into an NDArray and running a differencial operation on it. The column to look for will be SLG.\n",
    "\n",
    "Your output should display which year (either 2017 or 2018) was a better year based on SLG"
   ]
  },
  {
   "cell_type": "code",
   "execution_count": 9,
   "metadata": {},
   "outputs": [],
   "source": [
    "import csv\n",
    "import numpy as np\n",
    "\n",
    "#Test to make sure you have the correct data\n",
    "\n"
   ]
  },
  {
   "cell_type": "code",
   "execution_count": 120,
   "metadata": {},
   "outputs": [
    {
     "name": "stdout",
     "output_type": "stream",
     "text": [
      "2017 SLG Data: [0.404 0.443 0.392 0.403 0.482 0.424 0.402 0.459 0.429 0.354 0.387 0.333\n",
      " 0.539 0.243 0.262 0.354 0.342 0.339 0.328 0.306 0.222 0.2   1.   ]\n",
      "\n",
      " Count of 2017 SLG Data: 23\n",
      "\n",
      " 2017 Average SLG: 0.39334782374941785\n",
      "\n",
      "\n",
      "\n",
      " 2018 SLG Data: [0.279 0.433 0.388 0.522 0.433 0.465 0.403 0.64  0.629 0.411 0.283 0.328\n",
      " 0.395 0.507 0.311 0.415 0.389 0.261 0.091 0.167]\n",
      "\n",
      " Count of 2018 SLG Data: 20\n",
      "\n",
      " 2018 Average SLG: 0.38750000335276125\n",
      "\n",
      "\n",
      "2017 has a count of 3 more SLG than 2018.\n",
      "2017 has a 0.0058478203966566 higher average SLG than 2018.\n"
     ]
    }
   ],
   "source": [
    "\"\"\"\n",
    "Example Result - Not the actual result\n",
    "Boston 18 had more SLG in 2018\n",
    "[0.404 0.443 0.392 0.403 0.482 0.424 0.402 0.459 0.429 0.354 0.387 0.333\n",
    " 0.539 0.243 0.262 0.354 0.342 0.339 0.328 0.306 0.222 0.2   1.   ]\n",
    "\"\"\"\n",
    "\n",
    "FIELDS = ['Rk', 'Pos', 'Name', 'Age', 'G', 'PA', 'AB', 'R', 'H', '2B', '3B', 'HR', 'RBI', 'SB', 'CS', \n",
    "          'BB', 'SO', 'BA', 'OBP', 'SLG', 'OPS', 'OPS+', 'TB', 'GDP', 'HBP', 'SH', 'SF', 'IBB']\n",
    "\n",
    "DATATYPES = [('rk', 'i'), ('pos', '|S25'), ('name', '|S25'), ('age', 'i'), ('g', 'i'), ('pa', 'i'), ('ab', 'i'),\n",
    "                ('r', 'i'), ('h', 'i'), ('2b', 'i'), ('3b', 'i'), ('hr', 'i'), ('rbi', 'i'), ('sb', 'i'), ('cs', 'i'),\n",
    "                ('bb', 'i'), ('so', 'i'), ('ba', 'f'), ('obp', 'f'), ('slg', 'f'), ('ops', 'f'), ('opsp', 'i'),\n",
    "                ('tb', 'i'), ('gdp', 'i'), ('hbp', 'i'), ('sh', 'i'), ('sf', 'i'), ('ibb', 'i')]\n",
    "\n",
    "#Use this function to actually open the data inside of a NDArray\n",
    "\n",
    "def load_data(filename, d = ','):\n",
    "    data = np.genfromtxt(filename, delimiter = d, skip_header = 1,\n",
    "                        usecols = np.arange(0,24), invalid_raise = False,\n",
    "                        names = FIELDS, dtype = DATATYPES)\n",
    "    return data\n",
    "\n",
    "\n",
    "# Load 2017 data\n",
    "year1 = 2017\n",
    "bs2017 = load_data('redsox_2017_hitting.txt')\n",
    "data2017 = bs2017['SLG']\n",
    "print(f'2017 SLG Data: {data2017}')\n",
    "# print(type(bs2017))\n",
    "\n",
    "\n",
    "count2017 = len(data2017)\n",
    "print(f'\\n Count of 2017 SLG Data: {count2017}')\n",
    "\n",
    "\n",
    "avg2017 = sum(data2017) / len(data2017)\n",
    "print(f'\\n 2017 Average SLG: {avg2017}')\n",
    "\n",
    "\n",
    "print('\\n')\n",
    "\n",
    "\n",
    "# Load 2018 data\n",
    "year2 = 2018\n",
    "bs2018 = load_data('redsox_2018_hitting.txt')\n",
    "data2018 = bs2018['SLG']\n",
    "print(f'\\n 2018 SLG Data: {data2018}')\n",
    "\n",
    "\n",
    "count2018 = len(data2018)\n",
    "print(f'\\n Count of 2018 SLG Data: {count2018}')\n",
    "\n",
    "\n",
    "avg2018 = sum(data2018) / len(data2018)\n",
    "print(f'\\n 2018 Average SLG: {avg2018}')\n",
    "\n",
    "\n",
    "print('\\n')\n",
    "\n",
    "def count_diff(count1,count2):\n",
    "    if count1 > count2:\n",
    "        return f'{year1} has a count of {count1 - count2} more SLG than {year2}.'\n",
    "    else:\n",
    "        return f'{year2} has a count of {count2 - count1} more SLG than {year1}.'\n",
    "\n",
    "print(count_diff(count2017,count2018))\n",
    "\n",
    "\n",
    "def avg_diff(avg1,avg2):\n",
    "    if avg1 > avg2:\n",
    "        return f'{year1} has a {avg1 - avg2} higher average SLG than {year2}.'\n",
    "    else:\n",
    "        return f'{year2} has a {avg2 - avg1} higher average SLG than {year1}.'\n",
    "    \n",
    "print(avg_diff(avg2017,avg2018))\n"
   ]
  },
  {
   "cell_type": "code",
   "execution_count": null,
   "metadata": {},
   "outputs": [],
   "source": []
  }
 ],
 "metadata": {
  "kernelspec": {
   "display_name": "Python 3",
   "language": "python",
   "name": "python3"
  },
  "language_info": {
   "codemirror_mode": {
    "name": "ipython",
    "version": 3
   },
   "file_extension": ".py",
   "mimetype": "text/x-python",
   "name": "python",
   "nbconvert_exporter": "python",
   "pygments_lexer": "ipython3",
   "version": "3.8.5"
  }
 },
 "nbformat": 4,
 "nbformat_minor": 2
}
